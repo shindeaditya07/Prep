{
 "cells": [
  {
   "cell_type": "markdown",
   "id": "6cc64282-5da4-461d-97de-b4f9fae7dae1",
   "metadata": {},
   "source": [
    "## Data Structures and Algorithms\n",
    "Data structures in python are of 2 types, built-in and user-defined data structures."
   ]
  },
  {
   "cell_type": "markdown",
   "id": "93b52d3a-a7dd-430b-adb1-2782e563f9c1",
   "metadata": {},
   "source": [
    "## Built-in Data Structures\n",
    "Built-in Data Structures are those which are directly provided by Python. They consist of:\n",
    "1. List:- Ordered collection of items to store elements of different data types. They are mutable.\n",
    "2. Tuple:- Similar to list but immutable.\n",
    "3. Set:- Unordered collection of unique elements of different data types, don't allow duplicate values.\n",
    "4. Dictionary:- Collection of key-value pairs where each key is unique, they are mutable and unordered.\n",
    "5. String:- Immutable sequence of characters, treated as arrays of bytes representing unicode characters."
   ]
  },
  {
   "cell_type": "code",
   "execution_count": 3,
   "id": "e11e16d2-c74e-4b3d-b862-537c9621c9fb",
   "metadata": {},
   "outputs": [
    {
     "name": "stdout",
     "output_type": "stream",
     "text": [
      "[1, 2, 3, 'hello', 4.5]\n",
      "[1, 2, 3, 'hello', 4.5, 5]\n",
      "[1, 2, 3, 'hello', 4.5, 5, 6, 7, 8]\n",
      "[1, 2, 25, 3, 'hello', 4.5, 5, 6, 7, 8]\n",
      "[1, 2, 25, 3, 'hello', 4.5, 5, 6, 8]\n",
      "[]\n"
     ]
    }
   ],
   "source": [
    "#List\n",
    "lis = [1,2,3,'hello', 4.5]\n",
    "print(lis)\n",
    "\n",
    "#Operations on List\n",
    "#Adding elements\n",
    "lis.append(5) #Single element\n",
    "print(lis)\n",
    "lis.extend([6,7,8]) #Multiple elements\n",
    "print(lis)\n",
    "lis.insert(2,25) #Inserting value 25 at index 2\n",
    "print(lis)\n",
    "\n",
    "#Removing elements\n",
    "lis.remove(7) #Remove specific element\n",
    "print(lis)\n",
    "lis.clear() #Remove all elements\n",
    "print(lis)"
   ]
  },
  {
   "cell_type": "code",
   "execution_count": 12,
   "id": "6cfb3d4a-44a8-49be-866b-66e69b0edd14",
   "metadata": {},
   "outputs": [
    {
     "name": "stdout",
     "output_type": "stream",
     "text": [
      "(1, 2, 'hello', 4.5)\n",
      "(1, 2, 'hello', 4.5, 5, 6)\n",
      "1 4.5 6\n",
      "hello world\n"
     ]
    }
   ],
   "source": [
    "#Tuple\n",
    "tup = (1,2,'hello',4.5)\n",
    "print(tup)\n",
    "\n",
    "#Operations on Tuple\n",
    "#Concatenation\n",
    "new_tup = tup + (5,6)\n",
    "print(new_tup)\n",
    "#Unpacking \n",
    "a,b,c,d,e,f = new_tup\n",
    "print(a,d,f)\n",
    "#Join\n",
    "tup1 = ('hello','world')\n",
    "joined_tup = \" \".join(tup1)\n",
    "print(joined_tup)"
   ]
  },
  {
   "cell_type": "code",
   "execution_count": 25,
   "id": "713f0338-3d48-4716-b52a-861edb110669",
   "metadata": {},
   "outputs": [
    {
     "name": "stdout",
     "output_type": "stream",
     "text": [
      "{1, 2, 3, 4}\n",
      "{1, 2, 3, 4, 6}\n",
      "{1, 2, 3, 4, 6, 8, 9, 10}\n",
      "{1, 2, 3, 6, 8, 9, 10}\n",
      "set()\n",
      "{1, 2, 3, 5, 6}\n",
      "{1, 2, 3}\n",
      "set()\n",
      "True\n",
      "False\n"
     ]
    }
   ],
   "source": [
    "#Set\n",
    "set1 = {1,2,3,4}\n",
    "print(set1)\n",
    "\n",
    "#Operations on Set\n",
    "#Adding elements\n",
    "set1.add(6) #Single element\n",
    "print(set1)\n",
    "set1.update([8,9,10]) #Multiple values\n",
    "print(set1)\n",
    "\n",
    "#Removing elements\n",
    "set1.remove(4) #Removing single element\n",
    "print(set1)\n",
    "set1.clear() #Removing all elements\n",
    "print(set1)\n",
    "\n",
    "#Operations on 2 sets\n",
    "set2 = {1,2,3}\n",
    "set3 = {1,2,3,5,6}\n",
    "union_set = set2.union(set3) #Union\n",
    "print(union_set)\n",
    "intersection_set = set2.intersection(set3) #Intersection\n",
    "print(intersection_set)\n",
    "diff_set = set2.difference(set3) #Difference\n",
    "print(diff_set)\n",
    "subset = set2.issubset(set3) #Subset\n",
    "print(subset)\n",
    "superset = set2.issuperset(set3) #Superset\n",
    "print(superset)"
   ]
  },
  {
   "cell_type": "code",
   "execution_count": 33,
   "id": "9e2ae5cd-46bf-4a66-80d9-67b8afcded60",
   "metadata": {},
   "outputs": [
    {
     "name": "stdout",
     "output_type": "stream",
     "text": [
      "{'name': 'Aditya', 'age': 17, 'location': 'Chennai'}\n",
      "{'name': 'Aditya', 'age': 17, 'location': 'Chennai', 'email': 'shindeaditya07@gmail.com'}\n",
      "{'name': 'Aditya', 'age': 26, 'location': 'Chennai', 'email': 'shindeaditya07@gmail.com'}\n",
      "{'name': 'Aditya', 'age': 26, 'email': 'shindeaditya07@gmail.com'}\n",
      "dict_keys(['name', 'age', 'email'])\n",
      "dict_values(['Aditya', 26, 'shindeaditya07@gmail.com'])\n"
     ]
    }
   ],
   "source": [
    "#Dictionary\n",
    "my_dict = {'name':\"Aditya\", 'age':17, 'location':\"Chennai\"}\n",
    "print(my_dict)\n",
    "\n",
    "#Operations on Dictionary\n",
    "#Adding element\n",
    "my_dict[\"email\"] = \"shindeaditya07@gmail.com\"\n",
    "print(my_dict)\n",
    "#Updating element\n",
    "my_dict['age'] = 26\n",
    "print(my_dict)\n",
    "#Removing element\n",
    "my_dict.pop(\"location\")\n",
    "print(my_dict)\n",
    "#Returning all keys in dictionary\n",
    "key = my_dict.keys()\n",
    "print(key)\n",
    "#Returning all values in dictionary\n",
    "value = my_dict.values()\n",
    "print(value)"
   ]
  },
  {
   "cell_type": "markdown",
   "id": "35ed90b5-7359-47cf-b535-c0a0605039e8",
   "metadata": {},
   "source": [
    "## User Defined Data Structures\n",
    "User-defined data strutures are those which are created and defined by the user using classes. They consist of:\n",
    "1. Stack:- Linear data structure which follows First-In-Last-Out principle.\n",
    "2. Queue:- Linear data structure which follows First-In-First-Out principle.\n",
    "3. Linked List:- Linear data structure where elements are linked using pointers.\n",
    "4. Tree:- Hierarchical data structure with a root node and child nodes, where each node represents a value and its descendants.\n",
    "5. Graph:- Non-linear data structure consisting of nodes connected by edges, can be directed or undirected.\n",
    "6. Hash Table:- Data structure that maps keys to values using hash function."
   ]
  },
  {
   "cell_type": "code",
   "execution_count": 35,
   "id": "3b2bf72e-5129-47dd-9301-650d25187128",
   "metadata": {},
   "outputs": [],
   "source": [
    "#Define Stack \n",
    "class Stack:\n",
    "    def __init__(self):\n",
    "        self.stack = []\n",
    "    def push(self,item):\n",
    "        self.stack.append(item)\n",
    "    def pop(self):\n",
    "        if not self.is_empty():\n",
    "            return self.stack.pop() \n",
    "        raise IndexError(\"Peek from empty stack\")\n",
    "    def peek(self): #Only used for viewing the top element \n",
    "        if not self.is_empty():\n",
    "            return self.stack[-1] #Returns last added element (top element)\n",
    "        raise IndexError(\"Peek from empty stack\")\n",
    "    def is_empty(self):\n",
    "        return len(self.stack) == 0\n",
    "    def size(self):\n",
    "        return len(self.stack)"
   ]
  },
  {
   "cell_type": "code",
   "execution_count": 41,
   "id": "49981ffb-c491-445a-b88b-89d95d461b15",
   "metadata": {},
   "outputs": [
    {
     "name": "stdout",
     "output_type": "stream",
     "text": [
      "[10, 20, 30, 40]\n",
      "40\n",
      "40\n",
      "[]\n"
     ]
    }
   ],
   "source": [
    "#Creating stack and performing operations \n",
    "sta = Stack()\n",
    "\n",
    "#Push elements\n",
    "sta.push(10)\n",
    "sta.push(20)\n",
    "sta.push(30)\n",
    "sta.push(40)\n",
    "print(sta.stack)\n",
    "\n",
    "#Peek elements\n",
    "top_element = sta.peek()\n",
    "print(top_element)\n",
    "\n",
    "#Pop elements\n",
    "pop_element = sta.pop()\n",
    "print(pop_element)\n",
    "\n",
    "#Pop all elements\n",
    "while not sta.is_empty():\n",
    "    sta.pop()\n",
    "print(sta.stack)"
   ]
  },
  {
   "cell_type": "code",
   "execution_count": 44,
   "id": "7ffcb4c8-3bb9-4291-a37d-cb5f32fbe01f",
   "metadata": {},
   "outputs": [],
   "source": [
    "#Define Queue\n",
    "class Queue:\n",
    "    def __init__(self):\n",
    "        self.queue = []\n",
    "    def enqueue(self,item):\n",
    "        self.queue.append(item)\n",
    "    def dequeue(self):\n",
    "        if not self.is_empty():\n",
    "            return self.queue.pop(0)\n",
    "        raise IndexError(\"Dequeue from empty queue\")\n",
    "    def is_empty(self):\n",
    "        return len(self.queue) == 0\n",
    "    def size(self):\n",
    "        return len(self.queue)"
   ]
  },
  {
   "cell_type": "code",
   "execution_count": 53,
   "id": "792cd2a0-94f7-433f-a154-002eed534269",
   "metadata": {},
   "outputs": [
    {
     "name": "stdout",
     "output_type": "stream",
     "text": [
      "[10, 20, 30, 40]\n",
      "10\n",
      "[]\n"
     ]
    }
   ],
   "source": [
    "#Creating a queue and performing operations \n",
    "que = Queue()\n",
    "\n",
    "#Enqueue (add) elements\n",
    "que.enqueue(10)\n",
    "que.enqueue(20)\n",
    "que.enqueue(30)\n",
    "que.enqueue(40)\n",
    "print(que.queue)\n",
    "\n",
    "#Dequeue (remove) elements\n",
    "front = que.dequeue()\n",
    "print(front)\n",
    "\n",
    "#Dequeue all elements\n",
    "while not que.is_empty():\n",
    "    que.dequeue()\n",
    "print(que.queue)"
   ]
  },
  {
   "cell_type": "markdown",
   "id": "8815bc1d-3d6f-4455-bb0a-1f9f86898bfa",
   "metadata": {},
   "source": [
    "## Trees\n",
    "Hierarchical data structure consisting of nodes connected by edges, non-linear data structure unlike arrays, linked lists.\n",
    "Key characteristics:\n",
    "1. Root Node - Topmost node in tree, has no parent.\n",
    "2. Parent Node - Node having 1 or more child nodes.\n",
    "3. Child Node - Node which is descendant of another node.\n",
    "4. Leaf Node - Node which doesn't have any children.\n",
    "5. Edge - Connection between 2 nodes.\n",
    "6. Height - Length of longest path from root to leaf node.\n",
    "7. Depth - Length of path from root to a particular node."
   ]
  },
  {
   "cell_type": "markdown",
   "id": "f2a7bbf3-cac9-4b24-a9b7-111bd6075f1b",
   "metadata": {},
   "source": [
    "## Types of Trees:\n",
    "1. Binary Tree - Each node has at most 2 children, left and right child.\n",
    "   a) Binary Search Tree (BST) - Smaller value nodes are left children, greater value nodes are right children.\n",
    "2. Balanced Tree - Height of left and right subtrees of any node differs by at most 1.\n",
    "   a) AVL Tree - Self-balancing BST where heights of 2 child subtrees of any node differ by 1 only.\n",
    "   b) Red-Black Tree - Self-balancing tree where nodes are either red or black, based on colour-related properties.\n",
    "3. Full Binary Tree - Each node has 0 or 2 child nodes, none have 1 child.\n",
    "4. Complete Binary Tree - All levels completely filled except possibly last level.\n",
    "5. N-ary Tree - Node can have at most N children, examples are ternary tree (N=3) and quaternary tree (N=4).\n",
    "6. B-Tree - Self-balancing search tree in which nodes can have multiple children and keys, used in databases for quick searching.\n",
    "7. Trie (Prefix Tree) - Special tree used for storing strings, each node stores 1 character of string.\n",
    "8. Binary Heap - Complete binary tree that satisfies heap property, Max-Heap (Value of each node >= Values of children), Min-Heap (Value of each node <= Values of children)."
   ]
  },
  {
   "cell_type": "code",
   "execution_count": 28,
   "id": "558a8b9a-f774-4e18-aa8f-599e6f231db4",
   "metadata": {},
   "outputs": [],
   "source": [
    "#Define tree\n",
    "class Node:\n",
    "    def __init__(self, data):\n",
    "        self.data = data\n",
    "        self.left = None\n",
    "        self.right = None\n",
    "\n",
    "class BinaryTree:\n",
    "    def __init__(self):\n",
    "        self.root = None\n",
    "\n",
    "    def insert(self, data):\n",
    "        if self.root is None:\n",
    "            self.root = Node(data)\n",
    "        else:\n",
    "            self._insert_recursive(data, self.root)\n",
    "\n",
    "    def _insert_recursive(self, data, node):\n",
    "        if data < node.data:\n",
    "            if node.left is None:\n",
    "                node.left = Node(data)\n",
    "            else:\n",
    "                self._insert_recursive(data, node.left)\n",
    "        else:\n",
    "            if node.right is None:\n",
    "                node.right = Node(data)\n",
    "            else:\n",
    "                self._insert_recursive(data, node.right)\n",
    "\n",
    "    def inorder_traversal(self, node):\n",
    "        if node is not None:\n",
    "            self.inorder_traversal(node.left)\n",
    "            print(node.data, end=' ')\n",
    "            self.inorder_traversal(node.right)\n",
    "\n",
    "    def preorder_traversal(self, node):\n",
    "        if node is not None:\n",
    "            print(node.data, end=' ')\n",
    "            self.preorder_traversal(node.left)\n",
    "            self.preorder_traversal(node.right)\n",
    "\n",
    "    def postorder_traversal(self, node):\n",
    "        if node is not None:\n",
    "            self.postorder_traversal(node.left)\n",
    "            self.postorder_traversal(node.right)\n",
    "            print(node.data, end=' ')\n",
    "\n",
    "    def search(self, data):\n",
    "        return self._search_recursive(data, self.root)\n",
    "\n",
    "    def _search_recursive(self, data, node):\n",
    "        if node is None or node.data == data:\n",
    "            return node\n",
    "        if data < node.data:\n",
    "            return self._search_recursive(data, node.left)\n",
    "        else:\n",
    "            return self._search_recursive(data, node.right)\n",
    "    \n",
    "    def find_min(self):\n",
    "        current = self.root\n",
    "        while current.left is not None:\n",
    "            current = current.left\n",
    "        return current.data\n",
    "\n",
    "    def find_max(self):\n",
    "        current = self.root\n",
    "        while current.right is not None:\n",
    "            current = current.right\n",
    "        return current.data\n",
    "\n",
    "    def height(self,node):\n",
    "        if node is None:\n",
    "            return 0\n",
    "        else:\n",
    "            left_height = self.height(node.left)\n",
    "            right_height = self.height(node.right)\n",
    "            return max(left_height, right_height) + 1\n",
    "        "
   ]
  },
  {
   "cell_type": "code",
   "execution_count": 29,
   "id": "180a4a03-6adf-44dd-afb9-6c4c7c1fefd3",
   "metadata": {},
   "outputs": [
    {
     "name": "stdout",
     "output_type": "stream",
     "text": [
      "Inorder traversal: \n",
      "20 30 40 50 60 70 80 \n",
      "Preorder traversal: \n",
      "50 30 20 40 70 60 80 \n",
      "Postorder traversal: \n",
      "20 40 30 60 80 70 50 \n",
      "Found:  60\n",
      "Maximum value: 80\n",
      "Minimum value: 20\n",
      "Height of tree: 3\n"
     ]
    }
   ],
   "source": [
    "bt = BinaryTree()\n",
    "\n",
    "#Inserting elements\n",
    "bt.insert(50)\n",
    "bt.insert(30)\n",
    "bt.insert(20)\n",
    "bt.insert(40)\n",
    "bt.insert(70)\n",
    "bt.insert(60)\n",
    "bt.insert(80)\n",
    "\n",
    "#Inorder Traversal in tree\n",
    "print(\"Inorder traversal: \")\n",
    "bt.inorder_traversal(bt.root)\n",
    "print()\n",
    "#Preorder Traversal in tree\n",
    "print(\"Preorder traversal: \")\n",
    "bt.preorder_traversal(bt.root)\n",
    "print()\n",
    "#Postorder Traversal in tree\n",
    "print(\"Postorder traversal: \")\n",
    "bt.postorder_traversal(bt.root)\n",
    "print()\n",
    "\n",
    "#Searching in tree\n",
    "result = bt.search(60)\n",
    "if result:\n",
    "    print(\"Found: \", result.data)\n",
    "else:\n",
    "    print(\"Not found\")\n",
    "\n",
    "#Find minimum and maximum \n",
    "print(\"Maximum value:\",bt.find_max())\n",
    "print(\"Minimum value:\",bt.find_min())\n",
    "\n",
    "#Finding height of tree\n",
    "print(\"Height of tree:\", bt.height(bt.root))"
   ]
  },
  {
   "cell_type": "code",
   "execution_count": null,
   "id": "252f4d7b-f0e6-4c73-9669-73a3a650f8c6",
   "metadata": {},
   "outputs": [],
   "source": []
  }
 ],
 "metadata": {
  "kernelspec": {
   "display_name": "Python 3 (ipykernel)",
   "language": "python",
   "name": "python3"
  },
  "language_info": {
   "codemirror_mode": {
    "name": "ipython",
    "version": 3
   },
   "file_extension": ".py",
   "mimetype": "text/x-python",
   "name": "python",
   "nbconvert_exporter": "python",
   "pygments_lexer": "ipython3",
   "version": "3.11.7"
  }
 },
 "nbformat": 4,
 "nbformat_minor": 5
}
