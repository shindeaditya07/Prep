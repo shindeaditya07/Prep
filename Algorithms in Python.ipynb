{
 "cells": [
  {
   "cell_type": "code",
   "execution_count": 1,
   "id": "e6932b3d-01c1-46b8-8e94-2e4421d433c8",
   "metadata": {},
   "outputs": [
    {
     "name": "stdin",
     "output_type": "stream",
     "text": [
      " 4 3 1 8 3 7 6\n"
     ]
    },
    {
     "name": "stdout",
     "output_type": "stream",
     "text": [
      "Sorted array is:\n",
      "1\n",
      "3\n",
      "3\n",
      "4\n",
      "6\n",
      "7\n",
      "8\n"
     ]
    }
   ],
   "source": [
    "# Bubble Sort\n",
    "def bubbleSort(arr):\n",
    "    n = len(arr)\n",
    "    for i in range(n):\n",
    "        for j in range(0, n - i - 1):\n",
    "            if arr[j] > arr[j + 1]:\n",
    "                arr[j], arr[j + 1] = arr[j + 1], arr[j]\n",
    "\n",
    "arr = list(map(int,input().split()))\n",
    "bubbleSort(arr)\n",
    "print(\"Sorted array is:\")\n",
    "for i in range(len(arr)):\n",
    "    print(\"%d\" % arr[i])\n"
   ]
  },
  {
   "cell_type": "code",
   "execution_count": 3,
   "id": "593e5f9c-9855-4f19-9a5b-26ce0dd9cdc4",
   "metadata": {},
   "outputs": [
    {
     "name": "stdin",
     "output_type": "stream",
     "text": [
      " 1 5 7 2 4 6 2 7 2 89 4\n"
     ]
    },
    {
     "name": "stdout",
     "output_type": "stream",
     "text": [
      "The unsorted list is: [1, 5, 7, 2, 4, 6, 2, 7, 2, 89, 4]\n",
      "The sorted new list is: [1, 2, 2, 2, 4, 4, 5, 6, 7, 7, 89]\n"
     ]
    }
   ],
   "source": [
    "# Insertion Sort\n",
    "def insertion_sort(list1):  \n",
    "        for i in range(1, len(list1)):    \n",
    "            a = list1[i]  \n",
    "            j = i - 1            \n",
    "            while j >= 0 and a < list1[j]:  \n",
    "                list1[j + 1] = list1[j]  \n",
    "                j -= 1  \n",
    "            list1[j + 1] = a  \n",
    "        return list1  \n",
    "\n",
    "list1 = list(map(int,input().split()))  \n",
    "print(\"The unsorted list is:\", list1)  \n",
    "print(\"The sorted new list is:\", insertion_sort(list1))  "
   ]
  },
  {
   "cell_type": "code",
   "execution_count": 10,
   "id": "84b8bb18-dc4f-4206-8de9-fe5cbd1efeae",
   "metadata": {},
   "outputs": [
    {
     "name": "stdout",
     "output_type": "stream",
     "text": [
      "The number 39 is located at position: 5\n"
     ]
    }
   ],
   "source": [
    "# Linear Search\n",
    "def linear_search(list, objective): \n",
    "    for i in range(len(list)):\n",
    "        if list[i] == objective:\n",
    "            return i\n",
    "    return -1\n",
    "\n",
    "list = [45,78,65,2,72,39,43,10]\n",
    "objective_number = 39\n",
    "result = linear_search(list, objective_number)\n",
    "if result != -1:\n",
    "    print(f\"The number {objective_number} is located at position: {result}\")\n",
    "else:\n",
    "    print(f\"The number {objective_number} is NOT in the list\")"
   ]
  },
  {
   "cell_type": "code",
   "execution_count": null,
   "id": "57f8d4bb-4a0f-4f3f-b6f4-f9ec905e9634",
   "metadata": {},
   "outputs": [],
   "source": []
  }
 ],
 "metadata": {
  "kernelspec": {
   "display_name": "Python 3 (ipykernel)",
   "language": "python",
   "name": "python3"
  },
  "language_info": {
   "codemirror_mode": {
    "name": "ipython",
    "version": 3
   },
   "file_extension": ".py",
   "mimetype": "text/x-python",
   "name": "python",
   "nbconvert_exporter": "python",
   "pygments_lexer": "ipython3",
   "version": "3.11.7"
  }
 },
 "nbformat": 4,
 "nbformat_minor": 5
}
