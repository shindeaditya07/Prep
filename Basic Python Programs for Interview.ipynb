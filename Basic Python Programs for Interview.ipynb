{
 "cells": [
  {
   "cell_type": "markdown",
   "id": "eab057ea-bbd0-44f3-97b4-28bac39ff643",
   "metadata": {},
   "source": [
    "## Arrays"
   ]
  },
  {
   "cell_type": "code",
   "execution_count": 1,
   "id": "df2c0696-886d-47d3-9366-409e4636c74a",
   "metadata": {},
   "outputs": [
    {
     "name": "stdout",
     "output_type": "stream",
     "text": [
      "[5, 4, 3, 2, 1]\n"
     ]
    }
   ],
   "source": [
    "#Reverse an array\n",
    "def rev_arr(arr):\n",
    "    return arr[::-1]\n",
    "arr = [1,2,3,4,5]\n",
    "print(rev_arr(arr))"
   ]
  },
  {
   "cell_type": "code",
   "execution_count": 2,
   "id": "a3664644-e171-474a-aec6-e47c288a9a58",
   "metadata": {},
   "outputs": [
    {
     "name": "stdout",
     "output_type": "stream",
     "text": [
      "(5, 1)\n"
     ]
    }
   ],
   "source": [
    "#Find maximum and minimum elements\n",
    "def max_min(arr):\n",
    "    return max(arr), min(arr)\n",
    "print(max_min(arr))"
   ]
  },
  {
   "cell_type": "code",
   "execution_count": 9,
   "id": "9403b459-eadb-46f7-b961-d6d715527a0a",
   "metadata": {},
   "outputs": [
    {
     "name": "stdin",
     "output_type": "stream",
     "text": [
      " 7 5 8 2 4 9 1 6 2 0 1 9 0\n"
     ]
    },
    {
     "name": "stdout",
     "output_type": "stream",
     "text": [
      "[0, 0, 1, 1, 2, 2, 4, 5, 6, 7, 8, 9, 9]\n",
      "False\n"
     ]
    }
   ],
   "source": [
    "#Sorting an array\n",
    "def sort_arr(arr):\n",
    "    return sorted(arr)\n",
    "\n",
    "arr = list(map(int,input().split()))\n",
    "print(sort_arr(arr))\n",
    "\n",
    "#Check if array is sorted\n",
    "def check_arr(arr):    \n",
    "    if arr == sorted(arr):\n",
    "        return True\n",
    "    else:\n",
    "        return False\n",
    "print(f\"{check_arr(arr)}\")"
   ]
  },
  {
   "cell_type": "code",
   "execution_count": 8,
   "id": "67e754f3-a671-4ff9-9d16-06356ee9b23d",
   "metadata": {},
   "outputs": [
    {
     "name": "stdin",
     "output_type": "stream",
     "text": [
      " 7 5 1 6 4 2 0 7 0 8 3 4 2 5 0 4 2 1 9\n"
     ]
    },
    {
     "name": "stdout",
     "output_type": "stream",
     "text": [
      "[0, 1, 2, 3, 4, 5, 6, 7, 8, 9]\n"
     ]
    }
   ],
   "source": [
    "#Remove duplicates from Array\n",
    "def remove_dup(arr):\n",
    "    return list(set(arr))\n",
    "\n",
    "arr = list(map(int,input().split()))\n",
    "print(remove_dup(arr))"
   ]
  },
  {
   "cell_type": "code",
   "execution_count": 11,
   "id": "8e00499b-0f18-49da-87db-63a704c6c1b0",
   "metadata": {},
   "outputs": [
    {
     "name": "stdin",
     "output_type": "stream",
     "text": [
      " 4 8 1 0 6 9 3 2 7\n"
     ]
    },
    {
     "name": "stdout",
     "output_type": "stream",
     "text": [
      "8\n"
     ]
    }
   ],
   "source": [
    "#Second largest element in array\n",
    "def sec_large(arr):\n",
    "    unique = list(set(arr))\n",
    "    unique.sort()\n",
    "    return unique[-2] if len(unique)>=2 else None\n",
    "arr = list(map(int,input().split()))\n",
    "print(sec_large(arr))"
   ]
  },
  {
   "cell_type": "code",
   "execution_count": 13,
   "id": "bf0a6e36-37d3-4f3b-9f3f-b4339551b8c2",
   "metadata": {},
   "outputs": [
    {
     "name": "stdin",
     "output_type": "stream",
     "text": [
      "Enter array: 2 7 8 3 4 1 5 9 6\n",
      "Enter K value: 2\n"
     ]
    },
    {
     "name": "stdout",
     "output_type": "stream",
     "text": [
      "[8, 3, 4, 1, 5, 9, 6, 2, 7]\n"
     ]
    }
   ],
   "source": [
    "#Rotating array by K positions\n",
    "def rot_arr(arr,K):\n",
    "    K = K % len(arr)\n",
    "    return arr[K:] + arr[:K]\n",
    "arr = list(map(int,input(\"Enter array:\").split()))\n",
    "K = int(input(\"Enter K value:\"))\n",
    "print(rot_arr(arr,K))"
   ]
  },
  {
   "cell_type": "code",
   "execution_count": 15,
   "id": "a13d9c7c-77c8-40f8-80fa-46c368e23406",
   "metadata": {},
   "outputs": [
    {
     "name": "stdin",
     "output_type": "stream",
     "text": [
      " 2 4 -8 3 -7 8 0 6 -7\n"
     ]
    },
    {
     "name": "stdout",
     "output_type": "stream",
     "text": [
      "[2, 4, 3, 8, 6, -8, -7, -7]\n"
     ]
    }
   ],
   "source": [
    "#Move negative elements to 1 side\n",
    "def move_neg(arr):\n",
    "    negative = [x for x in arr if x<0]\n",
    "    non_negative = [x for x in arr if x>0]\n",
    "    return non_negative + negative\n",
    "arr = list(map(int,input().split()))\n",
    "print(move_neg(arr))"
   ]
  },
  {
   "cell_type": "code",
   "execution_count": 24,
   "id": "d18ab219-c486-4ffd-bc50-0929f17f0785",
   "metadata": {},
   "outputs": [
    {
     "name": "stdin",
     "output_type": "stream",
     "text": [
      " 1 7 2 8 3 9 4 6 0\n"
     ]
    },
    {
     "name": "stdout",
     "output_type": "stream",
     "text": [
      "[0, 7, 2, 8, 3, 9, 4, 6, 0]\n"
     ]
    }
   ],
   "source": [
    "#Cyclically rotate array by 1\n",
    "def rot_by_1(arr):\n",
    "    if len(arr) == 0:\n",
    "        return arr\n",
    "    last_element = arr[-1]\n",
    "    for i in range(len(arr) -1, 0, 1):\n",
    "        arr[i] = arr[i-1]\n",
    "    arr[0] = last_element\n",
    "    return arr\n",
    "    \n",
    "arr1 = list(map(int, input().split()))\n",
    "rot_array = rot_by_1(arr1)\n",
    "print(rot_array)"
   ]
  },
  {
   "cell_type": "code",
   "execution_count": 27,
   "id": "0022b309-cad4-4d67-9449-630bdc2e6cc4",
   "metadata": {},
   "outputs": [
    {
     "name": "stdin",
     "output_type": "stream",
     "text": [
      " 1 7 2 8 3 9 0 4 5 6\n"
     ]
    },
    {
     "name": "stdout",
     "output_type": "stream",
     "text": [
      "45\n"
     ]
    }
   ],
   "source": [
    "#Largest Sum Contiguous Subarray\n",
    "def max_subarray_sum(arr):\n",
    "    current_max = arr[0]\n",
    "    max_here = arr[0]\n",
    "    for i in range(1,len(arr)):\n",
    "        max_here = max(arr[i], max_here + arr[i])\n",
    "        current_max = max(current_max, max_here)\n",
    "    return current_max\n",
    "arr = list(map(int,input().split()))\n",
    "print(max_subarray_sum(arr))"
   ]
  },
  {
   "cell_type": "code",
   "execution_count": 29,
   "id": "f298d6a1-0692-4518-825b-fb284d74374c",
   "metadata": {},
   "outputs": [
    {
     "name": "stdin",
     "output_type": "stream",
     "text": [
      "Enter k value: 2\n",
      "Enter no. of values: 6\n",
      " 2 4 6 7 2 9\n"
     ]
    },
    {
     "name": "stdout",
     "output_type": "stream",
     "text": [
      "3\n"
     ]
    }
   ],
   "source": [
    "#Minimize the maximum difference between heights\n",
    "def minDiff(arr,n,k):\n",
    "    arr.sort()\n",
    "    ans = arr[n-1] -arr[0]\n",
    "    tempmin = arr[0]\n",
    "    tempmax = arr[n-1]\n",
    "    for i in range(1,n):\n",
    "        if arr[i] < k:\n",
    "            continue\n",
    "        tempmin = min(arr[0] + k, arr[i] - k)\n",
    "        tempmax = max(arr[i-1] + k, arr[n-1] - k)\n",
    "        ans = min(ans, tempmax - tempmin)\n",
    "    return ans\n",
    "k = int(input(\"Enter k value:\"))\n",
    "n = int(input(\"Enter no. of values:\"))\n",
    "arr = list(map(int,input().split()))\n",
    "ans = minDiff(arr,n,k)\n",
    "print(ans)"
   ]
  },
  {
   "cell_type": "code",
   "execution_count": 31,
   "id": "fc25940e-4484-4758-9270-85cb4051c995",
   "metadata": {},
   "outputs": [
    {
     "name": "stdin",
     "output_type": "stream",
     "text": [
      "Enter array: 1 8 3 7 2 8 1 3 7 4 1 8 6 \n"
     ]
    },
    {
     "name": "stdout",
     "output_type": "stream",
     "text": [
      "Minimum number of jumps to reach end is  3 \n"
     ]
    }
   ],
   "source": [
    "#Minimum no. of Jumps to reach end of an array\n",
    "def minJumps(arr, n):\n",
    "    if (n <= 1):\n",
    "        return 0\n",
    "    if (arr[0] >= n-1):\n",
    "        return 1\n",
    "    if (arr[0] == 0):\n",
    "        return -1\n",
    "    maxReach = arr[0]\n",
    "    step = arr[0]\n",
    "    jump = 1\n",
    "    for i in range(1, n):\n",
    "        if (i == n-1):\n",
    "            return jump\n",
    "        if (arr[i] >= (n-1) - i):\n",
    "            return jump + 1\n",
    "        maxReach = max(maxReach, i + arr[i])\n",
    "        step -= 1\n",
    "        if (step == 0):\n",
    "            jump += 1\n",
    "            if(i >= maxReach):\n",
    "                return -1\n",
    "            step = maxReach - i\n",
    "    return -1\n",
    "arr = list(map(int,input(\"Enter array:\").split()))\n",
    "size = len(arr)\n",
    "print(\"Minimum number of jumps to reach end is % d \" % minJumps(arr, size))"
   ]
  },
  {
   "cell_type": "code",
   "execution_count": 33,
   "id": "dfa4eb4a-e243-4f1e-a0d5-9ebe14c9f02f",
   "metadata": {},
   "outputs": [
    {
     "name": "stdin",
     "output_type": "stream",
     "text": [
      " 1 3 5 7\n",
      " 2 4 6 8\n"
     ]
    },
    {
     "name": "stdout",
     "output_type": "stream",
     "text": [
      "Array after merging\n",
      "1 2 3 4 5 6 7 8 "
     ]
    }
   ],
   "source": [
    "#Merge 2 sorted arrays \n",
    "def mergeArrays(arr1, arr2, n1, n2, arr3):\n",
    "    i = 0\n",
    "    j = 0\n",
    "    k = 0\n",
    "    while(i < n1):\n",
    "        arr3[k] = arr1[i]\n",
    "        k += 1\n",
    "        i += 1\n",
    "    while(j < n2):\n",
    "        arr3[k] = arr2[j]\n",
    "        k += 1\n",
    "        j += 1\n",
    "    arr3.sort()\n",
    "if __name__ == '__main__':\n",
    "    arr1 = list(map(int,input().split()))\n",
    "    n1 = len(arr1)\n",
    "    arr2 = list(map(int,input().split()))\n",
    "    n2 = len(arr2)\n",
    "    arr3 = [0 for i in range(n1+n2)]\n",
    "    mergeArrays(arr1, arr2, n1, n2, arr3)\n",
    "    print(\"Array after merging\")\n",
    "    for i in range(n1 + n2):\n",
    "        print(arr3[i], end=\" \")"
   ]
  },
  {
   "cell_type": "code",
   "execution_count": 35,
   "id": "201b6fc4-2958-4bbd-af08-d70f68d98d65",
   "metadata": {},
   "outputs": [
    {
     "name": "stdout",
     "output_type": "stream",
     "text": [
      "Duplicate elements: 2 3 \n"
     ]
    }
   ],
   "source": [
    "#Finding duplicates\n",
    "def duplicates(arr):\n",
    "    freq_map = {}\n",
    "    result = []\n",
    "    for num in arr:\n",
    "        freq_map[num] = freq_map.get(num, 0) + 1\n",
    "    for key, value in freq_map.items():\n",
    "        if value > 1:\n",
    "            result.append(key)\n",
    "    if not result:\n",
    "        result.append(-1)\n",
    "    result.sort()\n",
    "    return result\n",
    "if __name__ == \"__main__\":\n",
    "    a = [1, 6, 5, 2, 3, 3, 2]\n",
    "    duplicates_found = duplicates(a)  \n",
    "    print(\"Duplicate elements:\", end=\" \")\n",
    "    for element in duplicates_found:\n",
    "        print(element, end=\" \")\n",
    "    print()"
   ]
  },
  {
   "cell_type": "code",
   "execution_count": 34,
   "id": "a128bbcc-7c69-422f-9e54-3be1a85020a5",
   "metadata": {},
   "outputs": [
    {
     "name": "stdout",
     "output_type": "stream",
     "text": [
      "The Merged Intervals are: [1, 9] \n"
     ]
    }
   ],
   "source": [
    "#Merge Overlapping Intervals\n",
    "def merge_overlap(arr):\n",
    "    arr.sort(key=lambda x: x[0])\n",
    "    res = [arr[0]]\n",
    "    for i in range(1, len(arr)):\n",
    "        last = res[-1]\n",
    "        curr = arr[i]\n",
    "        if curr[0] <= last[1]:\n",
    "            last[1] = max(last[1], curr[1])\n",
    "        else:\n",
    "            res.append(curr)\n",
    "    return res\n",
    "if __name__ == \"__main__\":\n",
    "    arr = [[6, 8], [1, 9], [2, 4], [4, 7]]\n",
    "    res = merge_overlap(arr)\n",
    "    print(\"The Merged Intervals are: \", end=\"\")\n",
    "    for interval in res:\n",
    "        print(f\"[{interval[0]}, {interval[1]}]\", end=\" \")\n",
    "    print()"
   ]
  },
  {
   "cell_type": "code",
   "execution_count": 36,
   "id": "ba758989-ec24-4bc0-8478-7bf824b9018d",
   "metadata": {},
   "outputs": [
    {
     "name": "stdout",
     "output_type": "stream",
     "text": [
      "Maximum Subarray product is 60\n"
     ]
    }
   ],
   "source": [
    "#Find maximum product subarray\n",
    "def maxProduct(arr, n):\n",
    "\tminVal = arr[0]\n",
    "\tmaxVal = arr[0]\n",
    "\tmaxProduct = arr[0]\n",
    "\tfor i in range(1, n, 1):\n",
    "\t\tif (arr[i] < 0):\n",
    "\t\t\ttemp = maxVal\n",
    "\t\t\tmaxVal = minVal\n",
    "\t\t\tminVal = temp\n",
    "\t\tmaxVal = max(arr[i], maxVal * arr[i])\n",
    "\t\tminVal = min(arr[i], minVal * arr[i])\n",
    "\t\tmaxProduct = max(maxProduct, maxVal)\n",
    "\treturn maxProduct\n",
    "if __name__ == '__main__':\n",
    "\tarr = [-1, -3, -10, 0, 60]\n",
    "\tn = len(arr)\n",
    "\tprint(\"Maximum Subarray product is\",maxProduct(arr, n))"
   ]
  },
  {
   "cell_type": "code",
   "execution_count": 37,
   "id": "71c59c14-60fd-481a-bbab-dd937d9c6833",
   "metadata": {},
   "outputs": [
    {
     "name": "stdout",
     "output_type": "stream",
     "text": [
      "Common elements: [5, 20]\n"
     ]
    }
   ],
   "source": [
    "#Find common elements in three sorted arrays\n",
    "def commonElements(A, B, C):\n",
    "    count = {}\n",
    "    for ele in A:\n",
    "        count[ele] = 1\n",
    "    for ele in B:\n",
    "        if ele in count and count[ele] == 1:\n",
    "            count[ele] = 2\n",
    "    for ele in C:\n",
    "        if ele in count and count[ele] == 2:\n",
    "            count[ele] = 3\n",
    "    common_elements = []\n",
    "    for ele, cnt in sorted(count.items()):\n",
    "        if cnt == 3:\n",
    "            common_elements.append(ele)       \n",
    "    return common_elements\n",
    "A = [1, 5, 10, 20, 30]\n",
    "B = [5, 13, 15, 20]\n",
    "C = [5, 20]\n",
    "ans = commonElements(A, B, C)\n",
    "print(\"Common elements:\", ans)"
   ]
  },
  {
   "cell_type": "code",
   "execution_count": 38,
   "id": "30634c48-dae4-45f8-826a-a410631fd963",
   "metadata": {},
   "outputs": [
    {
     "name": "stdout",
     "output_type": "stream",
     "text": [
      "6\n"
     ]
    }
   ],
   "source": [
    "#Count inversions in an array\n",
    "def get_inv_count(arr):\n",
    "    n = len(arr) \n",
    "    inv_count = 0  \n",
    "    for i in range(n - 1):\n",
    "        for j in range(i + 1, n):\n",
    "            if arr[i] > arr[j]:\n",
    "                inv_count += 1\n",
    "    return inv_count  \n",
    "arr = [4, 3, 2, 1]\n",
    "print(get_inv_count(arr))"
   ]
  },
  {
   "cell_type": "code",
   "execution_count": 39,
   "id": "53da52ef-4ce8-4069-8093-666ecdf7c034",
   "metadata": {},
   "outputs": [
    {
     "name": "stdout",
     "output_type": "stream",
     "text": [
      "8\n"
     ]
    }
   ],
   "source": [
    "#Solve stock buy and sell by exploring all possible pairs\n",
    "def max_profit(prices):\n",
    "    n = len(prices)\n",
    "    res = 0\n",
    "    for i in range(n - 1):\n",
    "        for j in range(i + 1, n):\n",
    "            res = max(res, prices[j] - prices[i])\n",
    "    return res\n",
    "if __name__ == \"__main__\":\n",
    "    prices = [7, 10, 1, 3, 6, 9, 2]\n",
    "    print(max_profit(prices))"
   ]
  },
  {
   "cell_type": "code",
   "execution_count": 10,
   "id": "6f4c1a20-eebe-40ce-a027-505b86f34e37",
   "metadata": {},
   "outputs": [
    {
     "name": "stdin",
     "output_type": "stream",
     "text": [
      " Hello, I am Aditya\n"
     ]
    },
    {
     "name": "stdout",
     "output_type": "stream",
     "text": [
      "aytidA ma I ,olleH\n"
     ]
    }
   ],
   "source": [
    "# String reversing\n",
    "def reverse_string(string):\n",
    "    return string[::-1]\n",
    "\n",
    "text = input()\n",
    "reversed_text = reverse_string(text)\n",
    "print(reversed_text)"
   ]
  },
  {
   "cell_type": "code",
   "execution_count": 4,
   "id": "dcb2de31-5807-4e60-a03c-9f17e7e91c31",
   "metadata": {},
   "outputs": [
    {
     "name": "stdin",
     "output_type": "stream",
     "text": [
      " Racecar\n"
     ]
    },
    {
     "name": "stdout",
     "output_type": "stream",
     "text": [
      "racecar\n",
      "Racecar is a palindrome\n"
     ]
    }
   ],
   "source": [
    "# Check is string is Palindrome\n",
    "def is_palindrome(string):\n",
    "    reversed_string = string[::-1]\n",
    "    return string == reversed_string\n",
    "\n",
    "word = input()\n",
    "corr_word = word.lower()\n",
    "print(corr_word)\n",
    "if is_palindrome(corr_word):\n",
    "    print(f\"{word} is a palindrome\")\n",
    "else:\n",
    "    print(f\"{word} is not a palindrome\")"
   ]
  },
  {
   "cell_type": "code",
   "execution_count": 6,
   "id": "dd21310b-7ff7-485d-817b-1fa7497094c4",
   "metadata": {},
   "outputs": [
    {
     "name": "stdin",
     "output_type": "stream",
     "text": [
      " 7\n"
     ]
    },
    {
     "name": "stdout",
     "output_type": "stream",
     "text": [
      "The factorial of 7 is 5040\n"
     ]
    }
   ],
   "source": [
    "# Factorial of number\n",
    "def factorial(n):\n",
    "    if n == 0:\n",
    "        return 1\n",
    "    else:\n",
    "        return n * factorial(n-1)\n",
    "\n",
    "number = int(input())\n",
    "result = factorial(number)\n",
    "print(f\"The factorial of {number} is {result}\")"
   ]
  },
  {
   "cell_type": "code",
   "execution_count": 8,
   "id": "5280bada-7e11-45c7-8209-5d172c466243",
   "metadata": {},
   "outputs": [
    {
     "name": "stdin",
     "output_type": "stream",
     "text": [
      "Enter numbers: 5 10 45 2 75 6\n"
     ]
    },
    {
     "name": "stdout",
     "output_type": "stream",
     "text": [
      "The largest number is 75\n"
     ]
    }
   ],
   "source": [
    "# Largest element in list\n",
    "def find_largest(numbers):\n",
    "    largest = numbers[0]\n",
    "    for num in numbers:\n",
    "        if num > largest:\n",
    "            largest = num\n",
    "    return largest\n",
    "\n",
    "# Test the function\n",
    "nums = list(map(int,input(\"Enter numbers:\").split()))\n",
    "largest_num = find_largest(nums)\n",
    "print(f\"The largest number is {largest_num}\")"
   ]
  },
  {
   "cell_type": "code",
   "execution_count": 24,
   "id": "8b99b2e5-2bc6-4dc8-963c-dceaa238e8eb",
   "metadata": {},
   "outputs": [
    {
     "name": "stdin",
     "output_type": "stream",
     "text": [
      "Enter numbers: 5 10 45 2 75 6\n"
     ]
    },
    {
     "name": "stdout",
     "output_type": "stream",
     "text": [
      "The smallest number is  2\n"
     ]
    }
   ],
   "source": [
    "def find_min_element(lst):\n",
    "    if not lst:  \n",
    "        return None  \n",
    "    min_element = lst[0]  \n",
    "    for num in lst:\n",
    "        if num < min_element:\n",
    "            min_element = num\n",
    "    return min_element\n",
    "\n",
    "my_list = list(map(int,input(\"Enter numbers:\").split()))\n",
    "min_element = find_min_element(my_list)\n",
    "print(\"The smallest number is \", min_element)"
   ]
  },
  {
   "cell_type": "code",
   "execution_count": 13,
   "id": "bac38b72-5176-4322-a824-0e1be482bcbc",
   "metadata": {},
   "outputs": [
    {
     "name": "stdin",
     "output_type": "stream",
     "text": [
      "Enter numbers: 1 2 4 3 7 2 5 5 1 7 2\n"
     ]
    },
    {
     "name": "stdout",
     "output_type": "stream",
     "text": [
      "{1: 2, 2: 3, 4: 1, 3: 1, 7: 2, 5: 2}\n"
     ]
    }
   ],
   "source": [
    "# Count frequency of element in list\n",
    "def count_freq(numbers):\n",
    "    frequency = {}\n",
    "    for num in numbers:\n",
    "        if num in frequency:\n",
    "            frequency[num] += 1\n",
    "        else:\n",
    "            frequency[num] = 1\n",
    "    return frequency\n",
    "\n",
    "nums = list(map(int,input(\"Enter numbers:\").split()))\n",
    "frequency_count = count_freq(nums)\n",
    "print(frequency_count)"
   ]
  },
  {
   "cell_type": "code",
   "execution_count": 14,
   "id": "237fb3f5-e769-4722-991f-c9cc4d5703e2",
   "metadata": {},
   "outputs": [
    {
     "name": "stdin",
     "output_type": "stream",
     "text": [
      " 45\n"
     ]
    },
    {
     "name": "stdout",
     "output_type": "stream",
     "text": [
      "Not a prime number\n"
     ]
    }
   ],
   "source": [
    "# Check if number is prime\n",
    "def is_prime(number):\n",
    "    if number < 2:\n",
    "        return False\n",
    "    for i in range(2, int(number**0.5) + 1):\n",
    "        if number % i == 0:\n",
    "            return False\n",
    "    return True\n",
    "\n",
    "num = int(input())\n",
    "if is_prime(num):\n",
    "    print(\"Prime number\")\n",
    "else:\n",
    "    print(\"Not a prime number\")"
   ]
  },
  {
   "cell_type": "code",
   "execution_count": 15,
   "id": "466f8a0f-8745-48be-ac18-153034af760e",
   "metadata": {},
   "outputs": [
    {
     "name": "stdin",
     "output_type": "stream",
     "text": [
      " 1 2 4 5 6 \n",
      " 1 3 7 5 6\n"
     ]
    },
    {
     "name": "stdout",
     "output_type": "stream",
     "text": [
      "[1, 5, 6]\n"
     ]
    }
   ],
   "source": [
    "# Common elements in list\n",
    "def find_common_elements(list1, list2):\n",
    "    common_elements = []\n",
    "    for item in list1:\n",
    "        if item in list2:\n",
    "            common_elements.append(item)\n",
    "    return common_elements\n",
    "\n",
    "# Test the function\n",
    "list_a = list(map(int,input().split()))\n",
    "list_b = list(map(int,input().split()))\n",
    "common = find_common_elements(list_a, list_b)\n",
    "print(common)"
   ]
  },
  {
   "cell_type": "code",
   "execution_count": 16,
   "id": "acdce394-53b5-4c02-affc-ee50f38f83d9",
   "metadata": {},
   "outputs": [
    {
     "name": "stdin",
     "output_type": "stream",
     "text": [
      " 1 2 4 53 8 1 5 3 4 6\n"
     ]
    },
    {
     "name": "stdout",
     "output_type": "stream",
     "text": [
      "[1, 2, 4, 53, 8, 5, 3, 6]\n"
     ]
    }
   ],
   "source": [
    "# Remove duplicates in list\n",
    "def remove_duplicates(numbers):\n",
    "    unique_numbers = []\n",
    "    for num in numbers:\n",
    "        if num not in unique_numbers:\n",
    "            unique_numbers.append(num)\n",
    "    return unique_numbers\n",
    "\n",
    "# Test the function\n",
    "nums = list(map(int,input().split()))\n",
    "unique_nums = remove_duplicates(nums)\n",
    "print(unique_nums)"
   ]
  },
  {
   "cell_type": "code",
   "execution_count": 19,
   "id": "1e1dac71-ac48-407e-87ac-90662775114d",
   "metadata": {},
   "outputs": [
    {
     "name": "stdout",
     "output_type": "stream",
     "text": [
      "[4 6 2 7 6 4 1]\n"
     ]
    }
   ],
   "source": [
    "# Reversing a list\n",
    "import numpy as np\n",
    "lis = np.array([1,4,6,7,2,6,4])\n",
    "rev_lis = np.flip(lis)\n",
    "print(rev_lis)"
   ]
  },
  {
   "cell_type": "code",
   "execution_count": 20,
   "id": "d8e0c62f-814d-4043-ae63-d9741c5e662d",
   "metadata": {},
   "outputs": [
    {
     "name": "stdin",
     "output_type": "stream",
     "text": [
      "Enter 1st string: listen\n",
      "Enter 2nd string: silent\n"
     ]
    },
    {
     "name": "stdout",
     "output_type": "stream",
     "text": [
      "Anagrams\n"
     ]
    }
   ],
   "source": [
    "# Check whether 2 strings are anagrams\n",
    "def is_anagram(str1, str2):\n",
    "    str1 = str1.replace(\" \", \"\").lower()\n",
    "    str2 = str2.replace(\" \", \"\").lower()\n",
    "    return sorted(str1) == sorted(str2)\n",
    "\n",
    "string1 = input(\"Enter 1st string:\")\n",
    "string2 = input(\"Enter 2nd string:\")\n",
    "if is_anagram(string1, string2):\n",
    "    print(\"Anagrams\")\n",
    "else:\n",
    "    print(\"Not anagrams\")"
   ]
  },
  {
   "cell_type": "code",
   "execution_count": 22,
   "id": "b280ff26-e2c4-4bc3-9c86-2b114ed6124d",
   "metadata": {},
   "outputs": [
    {
     "name": "stdin",
     "output_type": "stream",
     "text": [
      " The quick brown fox jumps over the lazy dog\n"
     ]
    },
    {
     "name": "stdout",
     "output_type": "stream",
     "text": [
      "Pangram.\n"
     ]
    }
   ],
   "source": [
    "# Check whether string is pangram\n",
    "import string\n",
    "\n",
    "def is_pangram(sentence):\n",
    "    sentence = sentence.lower()\n",
    "    unique_chars = set(sentence)\n",
    "    unique_chars.discard(\" \")\n",
    "    unique_chars.difference_update(set(string.punctuation))\n",
    "    return len(unique_chars) == 26\n",
    "\n",
    "input_sentence = input()\n",
    "if is_pangram(input_sentence):\n",
    "    print(\"Pangram.\")\n",
    "else:\n",
    "    print(\"Not a pangram.\")"
   ]
  },
  {
   "cell_type": "code",
   "execution_count": 25,
   "id": "05b74af1-cde1-4475-917f-9f50e2b1d5ec",
   "metadata": {},
   "outputs": [
    {
     "name": "stdin",
     "output_type": "stream",
     "text": [
      " 7892312\n"
     ]
    },
    {
     "name": "stdout",
     "output_type": "stream",
     "text": [
      "Sum of digits in 7892312 is 32\n"
     ]
    }
   ],
   "source": [
    "# Calculate sum of digits\n",
    "def sum_of_digits(number):\n",
    "    num_str = str(number)\n",
    "    digit_sum = 0\n",
    "    for digit in num_str:\n",
    "        digit_sum += int(digit)\n",
    "    return digit_sum\n",
    "\n",
    "input_number = int(input())\n",
    "result = sum_of_digits(input_number)\n",
    "print(\"Sum of digits in\", input_number, \"is\", result)"
   ]
  },
  {
   "cell_type": "code",
   "execution_count": 26,
   "id": "ed031d2a-535b-46e0-9a44-4f57b0b2d777",
   "metadata": {},
   "outputs": [
    {
     "name": "stdin",
     "output_type": "stream",
     "text": [
      " 1994\n"
     ]
    },
    {
     "name": "stdout",
     "output_type": "stream",
     "text": [
      "1994 is not a leap year.\n"
     ]
    }
   ],
   "source": [
    "# Check if leap year or not\n",
    "def is_leap_year(year):\n",
    "    if (year % 4 == 0 and year % 100 != 0) or (year % 400 == 0):\n",
    "        return True\n",
    "    else:\n",
    "        return False\n",
    "\n",
    "input_year = int(input())\n",
    "if is_leap_year(input_year):\n",
    "    print(input_year, \"is a leap year.\")\n",
    "else:\n",
    "    print(input_year, \"is not a leap year.\")"
   ]
  },
  {
   "cell_type": "code",
   "execution_count": 31,
   "id": "631331b4-253b-4164-9ef3-4862e47556a0",
   "metadata": {},
   "outputs": [
    {
     "name": "stdin",
     "output_type": "stream",
     "text": [
      " 10 45 74 82 94 23\n"
     ]
    },
    {
     "name": "stdout",
     "output_type": "stream",
     "text": [
      "Average: 54.666666666666664\n"
     ]
    }
   ],
   "source": [
    "# Find average of number in list\n",
    "def find_average(numbers):\n",
    "    if not numbers:  \n",
    "        return None  \n",
    "    total = sum(numbers)  \n",
    "    average = total / len(numbers)  \n",
    "    return average\n",
    "\n",
    "number_list = list(map(int,input().split()))\n",
    "average = find_average(number_list)\n",
    "if average is not None:\n",
    "    print(\"Average:\", average)\n",
    "else:\n",
    "    print(\"The list is empty.\")"
   ]
  },
  {
   "cell_type": "code",
   "execution_count": 32,
   "id": "8749be71-b0dd-4ec4-acd6-1ed0f0a4b19a",
   "metadata": {},
   "outputs": [
    {
     "name": "stdin",
     "output_type": "stream",
     "text": [
      " 28\n"
     ]
    },
    {
     "name": "stdout",
     "output_type": "stream",
     "text": [
      "Celsius: 28 Fahrenheit: 82.4\n"
     ]
    }
   ],
   "source": [
    "# Celsius to fahrenheit conversion\n",
    "def celsius_to_fahrenheit(celsius):\n",
    "    fahrenheit = (celsius * 9/5) + 32\n",
    "    return fahrenheit\n",
    "\n",
    "celsius_temperature = int(input())\n",
    "fahrenheit_temperature = celsius_to_fahrenheit(celsius_temperature)\n",
    "print(\"Celsius:\", celsius_temperature, \"Fahrenheit:\", fahrenheit_temperature)"
   ]
  },
  {
   "cell_type": "code",
   "execution_count": null,
   "id": "c45c8d90-cad5-4131-9d64-b846b03c53f7",
   "metadata": {},
   "outputs": [],
   "source": []
  }
 ],
 "metadata": {
  "kernelspec": {
   "display_name": "Python 3 (ipykernel)",
   "language": "python",
   "name": "python3"
  },
  "language_info": {
   "codemirror_mode": {
    "name": "ipython",
    "version": 3
   },
   "file_extension": ".py",
   "mimetype": "text/x-python",
   "name": "python",
   "nbconvert_exporter": "python",
   "pygments_lexer": "ipython3",
   "version": "3.11.7"
  }
 },
 "nbformat": 4,
 "nbformat_minor": 5
}
